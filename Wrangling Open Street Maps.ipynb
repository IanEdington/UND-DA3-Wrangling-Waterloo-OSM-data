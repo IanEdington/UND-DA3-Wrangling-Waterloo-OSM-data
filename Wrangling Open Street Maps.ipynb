{
 "cells": [
  {
   "cell_type": "markdown",
   "metadata": {},
   "source": [
    "# Wrangling Open Street Map of Waterloo, Canada\n",
    "## By @IanEdington\n",
    "\n"
   ]
  },
  {
   "cell_type": "markdown",
   "metadata": {},
   "source": [
    "### Map Area: Region of Waterloo, Canada\n",
    "    https://www.openstreetmap.org/relation/2062154\n",
    "    https://www.openstreetmap.org/relation/2062153\n",
    "\n",
    "### References used during this project\n",
    "    https://www.udacity.com/course/viewer#!/c-ud032-nd/l-760758686/m-817328934\n",
    "    https://docs.python.org/3/library/xml.etree.elementtree.html\n",
    "    https://docs.python.org/2/library/re.html\n",
    "    http://stackoverflow.com/questions/5029934/python-defaultdict-of-defaultdict\n"
   ]
  },
  {
   "cell_type": "code",
   "execution_count": 1,
   "metadata": {
    "collapsed": false
   },
   "outputs": [],
   "source": [
    "import xml.etree.cElementTree as ET\n",
    "from pprint import pprint\n",
    "import re\n",
    "from importlib import reload\n",
    "\n",
    "#-- show plots in notebook\n",
    "%matplotlib inline\n",
    "\n",
    "#-- Import wrangling functions using my lasso\n",
    "import Lasso as l"
   ]
  },
  {
   "cell_type": "code",
   "execution_count": 77,
   "metadata": {
    "collapsed": false
   },
   "outputs": [],
   "source": [
    "# Reloading my lasso whenever it gets low\n",
    "l = reload(l) #assign to l so it stops showing the module output"
   ]
  },
  {
   "cell_type": "markdown",
   "metadata": {},
   "source": [
    "##Understanding the data\n",
    "Getting an idea of what is going on inside the area chosen.\n",
    "Looking at the possible values for each tag type and each "
   ]
  },
  {
   "cell_type": "code",
   "execution_count": 78,
   "metadata": {
    "collapsed": false
   },
   "outputs": [],
   "source": [
    "atr_d, st_atr_d, s_st_d, tag_k_v_dict = l.summarizes_data_2_tags_deep('waterloo-OSM-data.osm')"
   ]
  },
  {
   "cell_type": "code",
   "execution_count": 62,
   "metadata": {
    "collapsed": false,
    "scrolled": true
   },
   "outputs": [
    {
     "name": "stdout",
     "output_type": "stream",
     "text": [
      "['member', 'meta', 'nd', 'node', 'osm', 'relation', 'tag', 'way']\n"
     ]
    }
   ],
   "source": [
    "# types of top level tags:\n",
    "# Expected [node, way, relation]\n",
    "pprint (sorted(list(atr_d.keys())))"
   ]
  },
  {
   "cell_type": "markdown",
   "metadata": {},
   "source": [
    "###### Why are member, nd & tag as top level tags?\n",
    "It looks like all start tags were analysed not just top level tags. This won't change our analysis. It will actually be useful to see how tag is used as a child of different tags.\n",
    "\n",
    "###### What about &lt;osm&gt;?\n",
    "Only one osm element in set:<br/>\n",
    "&lt;osm version=\"0.6\" generator=\"Overpass API\"&gt;\n",
    "\n",
    "###### What about &lt;note&gt;?\n",
    "Only one note element in set:<br/>\n",
    "&lt;note&gt; The data included in this document is from www.openstreetmap.org. The data is made available under ODbL. &lt;/note&gt;\n",
    "\n",
    "###### What about &lt;meta&gt;?\n",
    "Only one meta element in set:<br/>\n",
    "&lt;meta osm_base=\"2015-07-16T03:14:03Z\"/&gt;"
   ]
  },
  {
   "cell_type": "markdown",
   "metadata": {},
   "source": [
    "## Focus on node, way, relation"
   ]
  },
  {
   "cell_type": "markdown",
   "metadata": {},
   "source": [
    "### Understand the difference between them"
   ]
  },
  {
   "cell_type": "code",
   "execution_count": 82,
   "metadata": {
    "collapsed": false,
    "scrolled": true
   },
   "outputs": [
    {
     "name": "stdout",
     "output_type": "stream",
     "text": [
      "{'node': {'tag'}}\n",
      "{'way': {'nd', 'tag'}}\n",
      "{'relation': {'member', 'tag'}}\n"
     ]
    }
   ],
   "source": [
    "print(dict(s_st_d['node']))\n",
    "print(dict(s_st_d['way']))\n",
    "print(dict(s_st_d['relation']))"
   ]
  },
  {
   "cell_type": "markdown",
   "metadata": {},
   "source": [
    "    All three have 'tag' tags.\n",
    "    Ways have 'nd' tags.\n",
    "    Relations have 'member' tags."
   ]
  },
  {
   "cell_type": "markdown",
   "metadata": {},
   "source": [
    "### nodes\n",
    "#### node attributes\n",
    "Attributes of node: Expected [id, lat, lon, ...]\n",
    "Address keys should be here.\n",
    "All keys should be indexable: check for problem keys."
   ]
  },
  {
   "cell_type": "code",
   "execution_count": 64,
   "metadata": {
    "collapsed": false,
    "scrolled": true
   },
   "outputs": [
    {
     "name": "stdout",
     "output_type": "stream",
     "text": [
      "[]\n",
      "['changeset', 'id', 'lat', 'lon', 'timestamp', 'uid', 'user', 'version']\n"
     ]
    }
   ],
   "source": [
    "#list of node attribute names (keys)\n",
    "node_attribute_key_list = list(atr_d['node'].keys())\n",
    "\n",
    "# check for problem keys\n",
    "print (l.check_keys_list(node_attribute_key_list))\n",
    "print (sorted(node_attribute_key_list))"
   ]
  },
  {
   "cell_type": "markdown",
   "metadata": {},
   "source": [
    "    No problem chars in node attribute keys. Seems interesting that these are the only attributes.\n",
    "    Everything else must be kept in the tags."
   ]
  },
  {
   "cell_type": "markdown",
   "metadata": {},
   "source": [
    "#### Node Tag k:v pairs\n",
    "\n",
    "k:v pairs of Tags on node.\n",
    "Expected: a bunch of different keys describing different types of nodes.\n",
    "All keys should be indexable: check for problem keys.\n",
    "\n",
    "Keys from tags shouldn't conflict with attribute keys from same node. How can we check this? Set check of node_attribute_key_list vs node_tag_key_list."
   ]
  },
  {
   "cell_type": "code",
   "execution_count": 65,
   "metadata": {
    "collapsed": false,
    "scrolled": true
   },
   "outputs": [
    {
     "name": "stdout",
     "output_type": "stream",
     "text": [
      "Problem Keys:\n",
      "[]\n",
      "Set check against node_attribute_key_list:\n",
      "set()\n",
      "list of all tag keys\n",
      "['FIXME',\n",
      " 'access',\n",
      " 'addr:city',\n",
      " 'addr:country',\n",
      " 'addr:housename',\n",
      " 'addr:housenumber',\n",
      " 'addr:interpolation',\n",
      " 'addr:postcode',\n",
      " 'addr:province',\n",
      " 'addr:state',\n",
      " 'addr:street',\n",
      " 'addr:unit',\n",
      " 'administrative',\n",
      " 'aerialway',\n",
      " 'aeroway',\n",
      " 'alcohol',\n",
      " 'alt_name',\n",
      " 'amenity',\n",
      " 'artist',\n",
      " 'artist_name',\n",
      " 'artwork_type',\n",
      " 'atm',\n",
      " 'automated',\n",
      " 'backrest',\n",
      " 'barrier',\n",
      " 'beauty',\n",
      " 'bench',\n",
      " 'bicycle',\n",
      " 'bicycle_parking',\n",
      " 'bin',\n",
      " 'board_type',\n",
      " 'books',\n",
      " 'booth',\n",
      " 'bottle',\n",
      " 'brand',\n",
      " 'building',\n",
      " 'building:levels',\n",
      " 'built',\n",
      " 'bus',\n",
      " 'button',\n",
      " 'button_operated',\n",
      " 'canvec:UUID',\n",
      " 'capacity',\n",
      " 'car',\n",
      " 'clothes',\n",
      " 'colour',\n",
      " 'contact:phone',\n",
      " 'contact:website',\n",
      " 'content',\n",
      " 'contents',\n",
      " 'covered',\n",
      " 'craft',\n",
      " 'created_by',\n",
      " 'crossing',\n",
      " 'crossing:barrier',\n",
      " 'crossing:bell',\n",
      " 'crossing:light',\n",
      " 'cuisine',\n",
      " 'currency:CAD',\n",
      " 'cycleway',\n",
      " 'dbh_cm',\n",
      " 'denomination',\n",
      " 'description',\n",
      " 'designation',\n",
      " 'destination',\n",
      " 'diet:vegetarian',\n",
      " 'direction',\n",
      " 'dispensing',\n",
      " 'display',\n",
      " 'drink',\n",
      " 'drinking_water',\n",
      " 'drive_through',\n",
      " 'email',\n",
      " 'emergency',\n",
      " 'entrance',\n",
      " 'fax',\n",
      " 'fee',\n",
      " 'female',\n",
      " 'fire_hydrant:class',\n",
      " 'fire_hydrant:diameter',\n",
      " 'fire_hydrant:type',\n",
      " 'fixme',\n",
      " 'flashing_light',\n",
      " 'floor',\n",
      " 'foot',\n",
      " 'formerly',\n",
      " 'fuel:diesel',\n",
      " 'fuel:e85',\n",
      " 'fuel:gasoline',\n",
      " 'fuel:lpg',\n",
      " 'fuel:octane_91',\n",
      " 'fuel:octane_95',\n",
      " 'fuel:propane',\n",
      " 'gender',\n",
      " 'healthcare',\n",
      " 'highway',\n",
      " 'historic',\n",
      " 'horse',\n",
      " 'indoor',\n",
      " 'information',\n",
      " 'internet_access',\n",
      " 'internet_access:fee',\n",
      " 'is_in:continent',\n",
      " 'junction',\n",
      " 'landuse',\n",
      " 'language',\n",
      " 'layer',\n",
      " 'leaf_type',\n",
      " 'leisure',\n",
      " 'level',\n",
      " 'loc_name',\n",
      " 'local_ref',\n",
      " 'location',\n",
      " 'male',\n",
      " 'man_made',\n",
      " 'material',\n",
      " 'maxspeed',\n",
      " 'monitoring:weather',\n",
      " 'motorcar',\n",
      " 'motorcycle',\n",
      " 'name',\n",
      " 'name:ar',\n",
      " 'name:de',\n",
      " 'name:en',\n",
      " 'name:fr',\n",
      " 'name:nl',\n",
      " 'name:ru',\n",
      " 'name:uk',\n",
      " 'name:zh',\n",
      " 'natural',\n",
      " 'network',\n",
      " 'noexit',\n",
      " 'note',\n",
      " 'office',\n",
      " 'old_name',\n",
      " 'opening_hours',\n",
      " 'opening_hours:url',\n",
      " 'operator',\n",
      " 'operator:fr',\n",
      " 'operator:zh',\n",
      " 'outdoor_seating',\n",
      " 'parking',\n",
      " 'payment:amex',\n",
      " 'payment:bitcoin',\n",
      " 'payment:cash',\n",
      " 'payment:coins',\n",
      " 'payment:credit_cards',\n",
      " 'payment:debit_cards',\n",
      " 'payment:electronic_purses',\n",
      " 'payment:litecoin',\n",
      " 'payment:mastercard',\n",
      " 'payment:notes',\n",
      " 'payment:telephone_cards',\n",
      " 'payment:visa',\n",
      " 'phone',\n",
      " 'place',\n",
      " 'population',\n",
      " 'power',\n",
      " 'produce',\n",
      " 'public_transport',\n",
      " 'railway',\n",
      " 'recording:automated',\n",
      " 'recycling:batteries',\n",
      " 'recycling:bicycles',\n",
      " 'recycling:computers',\n",
      " 'recycling_type',\n",
      " 'ref',\n",
      " 'ref:store_number',\n",
      " 'religion',\n",
      " 'room',\n",
      " 'route',\n",
      " 'route_ref',\n",
      " 'self_service',\n",
      " 'service',\n",
      " 'service:bicycle:chain_tool',\n",
      " 'service:bicycle:diy',\n",
      " 'service:bicycle:repair',\n",
      " 'service:bicycle:retail',\n",
      " 'service:bicycle:second_hand',\n",
      " 'shelter',\n",
      " 'shelter_type',\n",
      " 'shop',\n",
      " 'short_name',\n",
      " 'sign_post',\n",
      " 'smoking',\n",
      " 'social_facility',\n",
      " 'social_facility:for',\n",
      " 'source',\n",
      " 'source:ref',\n",
      " 'species',\n",
      " 'species:en',\n",
      " 'sport',\n",
      " 'start_date',\n",
      " 'stop',\n",
      " 'stop_id',\n",
      " 'stopsign',\n",
      " 'store_name',\n",
      " 'street_lamp',\n",
      " 'supervised',\n",
      " 'support',\n",
      " 'surveillance',\n",
      " 'swing_gate:type',\n",
      " 'tactile_paving',\n",
      " 'toilets:disposal',\n",
      " 'toilets:handwashing',\n",
      " 'toilets:position',\n",
      " 'tourism',\n",
      " 'towards',\n",
      " 'tower:type',\n",
      " 'traffic_calming',\n",
      " 'traffic_sign',\n",
      " 'traffic_signals:direction',\n",
      " 'transformer',\n",
      " 'turning_circle',\n",
      " 'twitter',\n",
      " 'type',\n",
      " 'url',\n",
      " 'vending',\n",
      " 'visibility',\n",
      " 'waterway',\n",
      " 'website',\n",
      " 'wheelchair',\n",
      " 'wifi',\n",
      " 'wikipedia']\n"
     ]
    }
   ],
   "source": [
    "#list of node attribute names (keys)\n",
    "node_tag_key_list = list(tag_k_v_dict['node'].keys())\n",
    "\n",
    "# check for problem keys, conflict with node attribute keys, print all keys\n",
    "print ('Problem Keys:')\n",
    "print (l.check_keys_list(node_tag_key_list))\n",
    "print ('Set check against node_attribute_key_list:')\n",
    "print (set(node_tag_key_list)&set(node_attribute_key_list))\n",
    "print ('list of all tag keys')\n",
    "pprint (sorted(node_tag_key_list))"
   ]
  },
  {
   "cell_type": "markdown",
   "metadata": {},
   "source": [
    "Observations:\n",
    "    1. No problem chars in node tag keys.\n",
    "    2. There doesn't seem to be overlap between the two key lists\n",
    "    3. \"addr:\" fields are only one deep (ie. no extra :'s )\n",
    "\n",
    "Interesting keys:\n",
    "*    Stand alone: ['FIXME', 'place', 'note', 'fixme', 'dbh_cm']\n",
    "*    Address: ['addr:city', 'addr:country', 'addr:housename', 'addr:housenumber', 'addr:interpolation', 'addr:postcode', 'addr:province', 'addr:state', 'addr:street', 'addr:unit',]\n"
   ]
  },
  {
   "cell_type": "markdown",
   "metadata": {},
   "source": [
    "#### Check interesting keys for problems"
   ]
  },
  {
   "cell_type": "code",
   "execution_count": 14,
   "metadata": {
    "collapsed": false,
    "scrolled": true
   },
   "outputs": [
    {
     "name": "stdout",
     "output_type": "stream",
     "text": [
      "This is the contents of FIXME\n",
      "{'believe this is further E. To be checked',\n",
      " 'construction continues. Check early 2010',\n",
      " 'not so sure about this corner',\n",
      " 'split?',\n",
      " 'survey'}\n",
      "This is the contents of place\n",
      "{'locality', 'city', 'village', 'neighbourhood', 'hamlet', 'suburb'}\n",
      "This is the contents of note\n",
      "{'2x',\n",
      " '71.73.77.80.83.84.89.90.93,95.94.99.100.105.,109.110.113.114.119.120.121.124.132.136',\n",
      " 'Archaeological and Historic Sites Board of Ontario plaque',\n",
      " 'Erected by the United Rubber Workers',\n",
      " 'FIXME: Correct designation for an historic building???',\n",
      " 'Full Serve',\n",
      " 'Historic Sites and Monuments Board of Canada plaque',\n",
      " 'IRA Needles',\n",
      " 'Iron Horse Trail',\n",
      " 'Kitchener City Hall',\n",
      " 'Kitchener Market',\n",
      " 'Level 2 charger',\n",
      " 'Men, Women, Family Washroom',\n",
      " 'New transit hub (proposed)',\n",
      " 'Permanent barrier blocks vehicles. Road continues',\n",
      " 'Regional road number not referenced on exit signs',\n",
      " 'Rental property',\n",
      " 'Route 7D',\n",
      " 'Sells Bitcoin: tinkercoin.com/dvlb',\n",
      " 'Still used, but only for tourist trains to st jacobs',\n",
      " 'The traffic light is not at the intersection. It is just north of the '\n",
      " 'intersection at the crosswalk.',\n",
      " 'Timepoint B',\n",
      " 'VPS and Game Server Hosting accepting Bitcoin!',\n",
      " 'Waterloo Parkade',\n",
      " 'Wilfred Laurier University',\n",
      " 'apartment',\n",
      " 'appliance,appliance parts supplier,appliance shop,appliance store,home '\n",
      " 'furnishings,furniture,mattresses',\n",
      " 'away',\n",
      " 'barrier',\n",
      " 'bus stop on right turn island',\n",
      " 'closed operations',\n",
      " 'continues on to airport and Cambridge',\n",
      " 'demolished',\n",
      " 'high speed door card required 1 car per entry',\n",
      " 'inside Sobeys grocery store',\n",
      " 'moved other side of street',\n",
      " 'no bus stop here anymore',\n",
      " 'no sign',\n",
      " 'not selling gasoline anymore, but still sells propane',\n",
      " 'old legion hall, now vacant',\n",
      " 'outside building',\n",
      " 'pedestrian crossing, signals are linked to railway crossing',\n",
      " 'pharmacy within Food Basics store',\n",
      " 'platform 5',\n",
      " 'playground',\n",
      " 'please check',\n",
      " 'press button N/S',\n",
      " 'rt19, rt20, stop 3565, no shelter',\n",
      " 'second floor',\n",
      " 'sells shoes, have to double check name',\n",
      " 'several newspaper boxes',\n",
      " 'slightly off of Queen street',\n",
      " 'underground parking garage',\n",
      " 'unit 400',\n",
      " 'winter'}\n",
      "This is the contents of fixme\n",
      "{'Survey rest of trail (Northward).',\n",
      " 'closing 2015',\n",
      " 'or is this a bump',\n",
      " 'stop sign or traffic light',\n",
      " 'survey rest of trail eastward.',\n",
      " 'survey rest of trail westward.',\n",
      " 'survey this plaza.',\n",
      " 'survey trail',\n",
      " 'track continues',\n",
      " 'yes'}\n",
      "This is the contents of dbh_cm\n",
      "{'35'}\n"
     ]
    }
   ],
   "source": [
    "# print contents of interesting keys. (leave address to later section)\n",
    "for key in ['FIXME', 'place', 'note', 'fixme', 'dbh_cm']:\n",
    "    print ('This is the contents of ' + key)\n",
    "    pprint (tag_k_v_dict['node'][key])"
   ]
  },
  {
   "cell_type": "markdown",
   "metadata": {},
   "source": [
    "    'FIXME': marks files that warrent a closer look\n",
    "    'place': just another location descriptor\n",
    "    'note': lots of notes, one fixme starting with 'FIXME:'\n",
    "    'fixme': marks files that warrent a closer look\n",
    "    'dbh_cm': only once, seems to be in reference to a tree\n",
    "\n",
    "FIXME and fixme should be called the same\n",
    "FIXME should be taken out of the notes section"
   ]
  },
  {
   "cell_type": "markdown",
   "metadata": {},
   "source": [
    "### Ways"
   ]
  },
  {
   "cell_type": "markdown",
   "metadata": {},
   "source": [
    "#### Way attributes\n",
    "Attributes of way: Expected ['changeset', 'id', 'lat', 'lon', 'timestamp', 'uid', 'user', 'version']\n",
    "\n",
    "All keys should be indexable: check for problem keys.\n",
    "\n"
   ]
  },
  {
   "cell_type": "code",
   "execution_count": 44,
   "metadata": {
    "collapsed": false
   },
   "outputs": [
    {
     "name": "stdout",
     "output_type": "stream",
     "text": [
      "[]\n",
      "['changeset', 'id', 'timestamp', 'uid', 'user', 'version']\n"
     ]
    }
   ],
   "source": [
    "#list of way attribute names (keys)\n",
    "way_attribute_key_list = list(atr_d['way'].keys())\n",
    "\n",
    "# check for problem keys\n",
    "print (l.check_keys_list(way_attribute_key_list))\n",
    "print (sorted(way_attribute_key_list))\n"
   ]
  },
  {
   "cell_type": "markdown",
   "metadata": {},
   "source": [
    "    Interesting **no lat & lon for way.** All other attrib's are the same as for node"
   ]
  },
  {
   "cell_type": "markdown",
   "metadata": {},
   "source": [
    "#### Way Tag k:v pairs\n",
    "\n",
    "k:v pairs of Tags on way.\n",
    "Expected: a bunch of different keys describing different types of ways.\n",
    "All keys should be indexable: check for problem keys.\n",
    "\n",
    "Keys from tags shouldn't conflict with attribute keys from same way. How can we check this? Set check of way_attribute_key_list vs way_tag_key_list."
   ]
  },
  {
   "cell_type": "code",
   "execution_count": 45,
   "metadata": {
    "collapsed": false,
    "scrolled": true
   },
   "outputs": [
    {
     "name": "stdout",
     "output_type": "stream",
     "text": [
      "Problem Keys:\n",
      "[]\n",
      "Set check against way_attribute_key_list:\n",
      "set()\n",
      "list of all tag keys\n",
      "['FIXME',\n",
      " 'FIXME:access',\n",
      " 'GeoBaseNHN:ACQTECH',\n",
      " 'GeoBaseNHN:DatasetName',\n",
      " 'GeoBaseNHN:PROVIDER',\n",
      " 'GeoBaseNHN:UUID',\n",
      " 'GeoBaseNHN:VALDATE',\n",
      " 'NHS',\n",
      " 'README',\n",
      " 'abutters',\n",
      " 'access',\n",
      " 'accuracy:meters',\n",
      " 'addr:city',\n",
      " 'addr:country',\n",
      " 'addr:full',\n",
      " 'addr:housename',\n",
      " 'addr:housename:zh',\n",
      " 'addr:housenumber',\n",
      " 'addr:interpolation',\n",
      " 'addr:postcode',\n",
      " 'addr:province',\n",
      " 'addr:state',\n",
      " 'addr:street',\n",
      " 'aerialway',\n",
      " 'aerialway:occupancy',\n",
      " 'aeroway',\n",
      " 'alt_name',\n",
      " 'alt_name:fr',\n",
      " 'alt_name:zh',\n",
      " 'amenity',\n",
      " 'area',\n",
      " 'atm',\n",
      " 'attribute',\n",
      " 'attribution',\n",
      " 'automated',\n",
      " 'barrier',\n",
      " 'basin',\n",
      " 'bench',\n",
      " 'bicycle',\n",
      " 'boat',\n",
      " 'boundary',\n",
      " 'branch',\n",
      " 'brand',\n",
      " 'bridge',\n",
      " 'building',\n",
      " 'building:colour',\n",
      " 'building:flats',\n",
      " 'building:levels',\n",
      " 'building:material',\n",
      " 'building:min_level',\n",
      " 'building:part',\n",
      " 'buildingpart',\n",
      " 'bus',\n",
      " 'cables',\n",
      " 'canvec:CODE',\n",
      " 'canvec:UUID',\n",
      " 'capacity',\n",
      " 'capacity:disabled',\n",
      " 'capacity:parent',\n",
      " 'capacity:women',\n",
      " 'church',\n",
      " 'club',\n",
      " 'condition',\n",
      " 'construction',\n",
      " 'contact:phone',\n",
      " 'contact:website',\n",
      " 'conveying',\n",
      " 'courts',\n",
      " 'covered',\n",
      " 'created_by',\n",
      " 'cuisine',\n",
      " 'culvert',\n",
      " 'cutting',\n",
      " 'cycleway',\n",
      " 'cycleway:left',\n",
      " 'cycleway:right',\n",
      " 'denomination',\n",
      " 'description',\n",
      " 'designation',\n",
      " 'destination',\n",
      " 'developer',\n",
      " 'diet:vegetarian',\n",
      " 'direction',\n",
      " 'dispensing',\n",
      " 'drive_through',\n",
      " 'electrified',\n",
      " 'embankment',\n",
      " 'emergency',\n",
      " 'fee',\n",
      " 'female',\n",
      " 'fence_type',\n",
      " 'fixme',\n",
      " 'floor',\n",
      " 'floors',\n",
      " 'foot',\n",
      " 'footway',\n",
      " 'gauge',\n",
      " 'geobase:acquisitionTechnique',\n",
      " 'geobase:datasetName',\n",
      " 'geobase:uuid',\n",
      " 'gst_number',\n",
      " 'height',\n",
      " 'hgv',\n",
      " 'highway',\n",
      " 'history',\n",
      " 'horse',\n",
      " 'hour_off',\n",
      " 'hour_on',\n",
      " 'iata',\n",
      " 'image',\n",
      " 'incline',\n",
      " 'indoor',\n",
      " 'industrial',\n",
      " 'industrial:type',\n",
      " 'intermittent',\n",
      " 'internet_access',\n",
      " 'is_in',\n",
      " 'junction',\n",
      " 'landcover',\n",
      " 'landuse',\n",
      " 'lanes',\n",
      " 'lanes:backward',\n",
      " 'lanes:forward',\n",
      " 'layer',\n",
      " 'leisure',\n",
      " 'level',\n",
      " 'line',\n",
      " 'lit',\n",
      " 'loc_name',\n",
      " 'location',\n",
      " 'male',\n",
      " 'man_made',\n",
      " 'maxspeed',\n",
      " 'maxstay',\n",
      " 'military',\n",
      " 'min_height',\n",
      " 'motor_vehicle',\n",
      " 'motorcar',\n",
      " 'mtb:scale',\n",
      " 'name',\n",
      " 'name:fr',\n",
      " 'name:nl',\n",
      " 'name:zh',\n",
      " 'natural',\n",
      " 'nextbus',\n",
      " 'note',\n",
      " 'notes',\n",
      " 'office',\n",
      " 'old_name',\n",
      " 'oneway',\n",
      " 'opened',\n",
      " 'opening_hours',\n",
      " 'opening_hours:url',\n",
      " 'operator',\n",
      " 'owner',\n",
      " 'park_ride',\n",
      " 'parking',\n",
      " 'parking:condition:both',\n",
      " 'parking:condition:right',\n",
      " 'parking:condition:right:default',\n",
      " 'parking:condition:right:maxstay',\n",
      " 'parking:condition:right:time_interval',\n",
      " 'parking:lane:both',\n",
      " 'parking:lane:both:parallel',\n",
      " 'parking:lane:left',\n",
      " 'parking:lane:right',\n",
      " 'parking:lane:right:parallel',\n",
      " 'payment:amex',\n",
      " 'payment:bitcoin',\n",
      " 'payment:coins',\n",
      " 'payment:notes',\n",
      " 'phone',\n",
      " 'piste:difficulty',\n",
      " 'piste:oneway',\n",
      " 'piste:type',\n",
      " 'power',\n",
      " 'produce',\n",
      " 'protect_class',\n",
      " 'psv',\n",
      " 'public_transport',\n",
      " 'railway',\n",
      " 'railway:traffic_mode',\n",
      " 'ramp',\n",
      " 'recycling:coffee_cups',\n",
      " 'recycling:scrap_metal',\n",
      " 'ref',\n",
      " 'ref:isil',\n",
      " 'religion',\n",
      " 'roof:colour',\n",
      " 'roof:levels',\n",
      " 'roof:material',\n",
      " 'roof:orientation',\n",
      " 'roof:shape',\n",
      " 'room',\n",
      " 'route',\n",
      " 'sac_scale',\n",
      " 'seasonal',\n",
      " 'segregated',\n",
      " 'self_service',\n",
      " 'service',\n",
      " 'shelter',\n",
      " 'shelter_type',\n",
      " 'shop',\n",
      " 'short_name',\n",
      " 'sidewalk',\n",
      " 'ski',\n",
      " 'snowmobile',\n",
      " 'social_facility',\n",
      " 'source',\n",
      " 'source:name',\n",
      " 'source:ref',\n",
      " 'spaces:disabled',\n",
      " 'sport',\n",
      " 'statscan:rbuid',\n",
      " 'step_count',\n",
      " 'store_ref',\n",
      " 'substation',\n",
      " 'supervised',\n",
      " 'surface',\n",
      " 'surveillance',\n",
      " 'tents',\n",
      " 'to',\n",
      " 'toilets:disposal',\n",
      " 'toilets:handwashing',\n",
      " 'toilets:position',\n",
      " 'tourism',\n",
      " 'tracktype',\n",
      " 'traffic_calming',\n",
      " 'trail_visibility',\n",
      " 'tunnel',\n",
      " 'turn:lanes',\n",
      " 'turn:lanes:backward',\n",
      " 'turn:lanes:forward',\n",
      " 'type',\n",
      " 'united',\n",
      " 'unsigned_ref',\n",
      " 'url',\n",
      " 'usage',\n",
      " 'vacant',\n",
      " 'voltage',\n",
      " 'waste_basket',\n",
      " 'water',\n",
      " 'waterway',\n",
      " 'website',\n",
      " 'wetland',\n",
      " 'wheelchair',\n",
      " 'wheelchair:description:en',\n",
      " 'width',\n",
      " 'wifi',\n",
      " 'wikipedia']\n"
     ]
    }
   ],
   "source": [
    "#list of way attribute names (keys)\n",
    "way_tag_key_list = list(tag_k_v_dict['way'].keys())\n",
    "\n",
    "# check for problem keys, conflict with way attribute keys, print all keys\n",
    "print ('Problem Keys:')\n",
    "print (l.check_keys_list(way_tag_key_list))\n",
    "print ('Set check against way_attribute_key_list:')\n",
    "print (set(way_tag_key_list)&set(way_attribute_key_list))\n",
    "print ('list of all tag keys')\n",
    "pprint (sorted(way_tag_key_list))"
   ]
  },
  {
   "cell_type": "markdown",
   "metadata": {},
   "source": [
    "    no problem keys\n",
    "    no confict with attribute keys\n",
    "    interesting keys found:\n",
    "    ['FIXME', 'FIXME:access', 'capacity:women', 'fixme', 'note', 'psv', 'to', 'type']\n",
    "    \n",
    "    address: ['addr:city', 'addr:country', 'addr:full', 'addr:housename', 'addr:housename:zh', 'addr:housenumber', 'addr:interpolation', 'addr:postcode', 'addr:province', 'addr:state', 'addr:street']"
   ]
  },
  {
   "cell_type": "code",
   "execution_count": 46,
   "metadata": {
    "collapsed": false,
    "scrolled": true
   },
   "outputs": [
    {
     "name": "stdout",
     "output_type": "stream",
     "text": [
      "This is the contents of FIXME\n",
      "['Check. May not exist the whole way any more',\n",
      " 'Estimated. Needs a proper gps track',\n",
      " 'FIXME',\n",
      " 'Survey this parking lot more fully',\n",
      " \"The correct name may be Arthur St. Please note that King's Highway 85 \"\n",
      " 'begins at and heads south from King St.',\n",
      " 'abandoned?',\n",
      " 'approximate',\n",
      " 'check surface',\n",
      " 'detail TBA',\n",
      " 'divided',\n",
      " 'does not match Bing imagery',\n",
      " 'name (not in Statscan data)',\n",
      " 'name?',\n",
      " 'road moved',\n",
      " 'surface',\n",
      " 'unmapped private road',\n",
      " 'yes']\n",
      "This is the contents of FIXME:access\n",
      "[\"access=official means it's officially open to all traffic - if not, use \"\n",
      " 'access=no or private']\n",
      "This is the contents of capacity:women\n",
      "['no']\n",
      "This is the contents of fixme\n",
      "['Does this waterway still exist?',\n",
      " 'What is \"ROC\"?',\n",
      " 'approximate',\n",
      " 'boundary is very rough',\n",
      " 'is this new or demolished?',\n",
      " 'just added the pathes into the parking lot',\n",
      " 'quickly drawn from Bing',\n",
      " 'rough boundary',\n",
      " 'separate park from woods',\n",
      " 'sport type is not known',\n",
      " 'stream',\n",
      " 'surface',\n",
      " 'verify',\n",
      " 'yes']\n",
      "This is the contents of note\n",
      "['Accelerator Centre',\n",
      " 'Beechwood Classics',\n",
      " 'Car factory',\n",
      " 'Converted office building under construction',\n",
      " 'Currently under construction',\n",
      " 'Drawn using local knowledge, will need to be reshaped when satellite '\n",
      " 'images are updated.',\n",
      " 'Drive-thru ATM.',\n",
      " 'Faculty of Music',\n",
      " 'Former Esso Fuels',\n",
      " 'Former school (notre dame)',\n",
      " 'Free for GO train users',\n",
      " 'Gas outside, Scotiabank ATM inside',\n",
      " 'Home builder in the Kitchener-Waterloo area. Builds singles, '\n",
      " 'semi-detached, townhouses, condos, duplexes and more.',\n",
      " 'Leased from CN to GEXR until 15 Nov 2018',\n",
      " 'No Winter Maintenance',\n",
      " 'North Campus',\n",
      " 'Northfield Station Office Development',\n",
      " 'Now owned by the University of Waterloo',\n",
      " 'Old Esso site?',\n",
      " 'Originally a Carnegie Library',\n",
      " 'Owned by University of Waterloo, leased to Blackberry',\n",
      " 'Regional Road 61',\n",
      " 'School Zone',\n",
      " 'Soon to be connected to Templewood Drive opposite the field (now being '\n",
      " 'developed Jan 2014)',\n",
      " 'South Campus',\n",
      " 'Start of new trails as of 2009-09-10',\n",
      " 'Storm Water Pond',\n",
      " 'Street-facing side is used commercially.',\n",
      " 'Switching office',\n",
      " 'The sign for Mr. Panino is still up, however it has been a Chinese food '\n",
      " 'place for several years. The sign on the door, in Chinese, says \"UW '\n",
      " 'Cafeteria\"',\n",
      " 'This might be the parking aisle for Sir John A. Macdonald School',\n",
      " 'To be demolished for LRT right-of-way',\n",
      " 'Waterloo Regional Road 55;May be designated as an unassumed '\n",
      " '(municipality-owned) provincial highway and intended to be signed as '\n",
      " \"King's Highway 7. (Unassumed provincial highways include but are not \"\n",
      " 'limited to all connecting links.)',\n",
      " 'Waterloo Regional Road 8',\n",
      " 'Westmount Rd S turns into Westmount Rd W when it corssinto Kitchener',\n",
      " 'Wheelchair ramp',\n",
      " 'Wilfred Laurier University Special Constable Service',\n",
      " 'actually 5pin',\n",
      " 'approximate',\n",
      " 'church parking',\n",
      " 'corporate name change',\n",
      " 'county tags moved to boundary relation.',\n",
      " 'demolished',\n",
      " 'farm gate sales',\n",
      " 'for daycare',\n",
      " \"former East Side Mario's Restaurant vacant\",\n",
      " 'formerly Future Shop',\n",
      " 'historic Utilities building',\n",
      " 'innoTECH Building',\n",
      " 'new building',\n",
      " 'no road here anymore',\n",
      " 'no winter maintenance',\n",
      " 'not sure of exact location; fix me',\n",
      " 'old fire station, now private',\n",
      " \"old right of way? I've looked for this multiple times. nothing\",\n",
      " 'parking shared between Delta and the condos',\n",
      " 'part not destroyed by fire',\n",
      " 'position approximate',\n",
      " 'postion estimated from survey',\n",
      " 'pre-addition (Stephen Hawking bldg on east side)',\n",
      " 'road widening',\n",
      " 'seasonal',\n",
      " 'shared facilities',\n",
      " 'short-term visitor parking',\n",
      " 'signalized emergency vehicle access to Maple Grove Road eastbound',\n",
      " 'signed private lane',\n",
      " 'slated for residential development. It is not a hotel',\n",
      " 'soccer, football',\n",
      " 'stormwater SWP',\n",
      " 'subject to change - under construction Oct 2006',\n",
      " 'temporary due to construction',\n",
      " 'two way, one lane',\n",
      " 'underground reservoir',\n",
      " 'vacant',\n",
      " 'wells and water treatment',\n",
      " 'will become light rail']\n",
      "This is the contents of psv\n",
      "['yes']\n",
      "This is the contents of to\n",
      "['Highway 7/8 West - Stratford', 'Highway 85 North', 'Northfield Drive West']\n",
      "This is the contents of type\n",
      "['auto_wrecker', 'lumber_yard', 'public', 'route']\n"
     ]
    }
   ],
   "source": [
    "# print contents of interesting keys. (leave address to later section)\n",
    "for key in ['FIXME', 'FIXME:access', 'capacity:women', 'fixme', 'note', 'psv', 'to', 'type']:\n",
    "    print ('This is the contents of ' + key)\n",
    "    pprint (sorted(tag_k_v_dict['way'][key]))"
   ]
  },
  {
   "cell_type": "markdown",
   "metadata": {},
   "source": [
    "    nothing seems to be out of order here\n",
    "    \n",
    "    fixme and FIXME should be standardized"
   ]
  },
  {
   "cell_type": "markdown",
   "metadata": {},
   "source": [
    "### Relation"
   ]
  },
  {
   "cell_type": "markdown",
   "metadata": {},
   "source": [
    "#### Relation attributes\n",
    "Attributes of relation: Expected ['changeset', 'id', 'lat', 'lon', 'timestamp', 'uid', 'user', 'version']\n",
    "\n",
    "All keys should be indexable: check for problem keys.\n",
    "\n"
   ]
  },
  {
   "cell_type": "code",
   "execution_count": 47,
   "metadata": {
    "collapsed": false
   },
   "outputs": [
    {
     "name": "stdout",
     "output_type": "stream",
     "text": [
      "[]\n",
      "['changeset', 'id', 'timestamp', 'uid', 'user', 'version']\n"
     ]
    }
   ],
   "source": [
    "#list of relation attribute names (keys)\n",
    "relation_attribute_key_list = list(atr_d['relation'].keys())\n",
    "\n",
    "# check for problem keys\n",
    "print (l.check_keys_list(relation_attribute_key_list))\n",
    "print (sorted(relation_attribute_key_list))\n"
   ]
  },
  {
   "cell_type": "markdown",
   "metadata": {},
   "source": [
    "    again no lat or lon, like way"
   ]
  },
  {
   "cell_type": "markdown",
   "metadata": {},
   "source": [
    "#### Relation Tag k:v pairs\n",
    "\n",
    "k:v pairs of Tags on relation.\n",
    "Expected: a bunch of different keys describing different types of relations.\n",
    "All keys should be indexable: check for problem keys.\n",
    "\n",
    "Keys from tags shouldn't conflict with attribute keys from same relation. How can we check this? Set check of relation_attribute_key_list vs relation_tag_key_list."
   ]
  },
  {
   "cell_type": "code",
   "execution_count": 48,
   "metadata": {
    "collapsed": false,
    "scrolled": true
   },
   "outputs": [
    {
     "name": "stdout",
     "output_type": "stream",
     "text": [
      "Problem Keys:\n",
      "[]\n",
      "Set check against relation_attribute_key_list:\n",
      "set()\n",
      "list of all tag keys\n",
      "['FIXME',\n",
      " 'access',\n",
      " 'addr:city',\n",
      " 'addr:housenumber',\n",
      " 'addr:street',\n",
      " 'admin_level',\n",
      " 'alt_name',\n",
      " 'alt_name:fr',\n",
      " 'alt_name:zh',\n",
      " 'amenity',\n",
      " 'area',\n",
      " 'bicycle',\n",
      " 'boundary',\n",
      " 'boundary_type',\n",
      " 'building',\n",
      " 'building:buildyear',\n",
      " 'ca_on_county',\n",
      " 'ca_on_edr',\n",
      " 'ca_on_trailblazer',\n",
      " 'colour',\n",
      " 'cycle_network',\n",
      " 'description',\n",
      " 'destination',\n",
      " 'direction',\n",
      " 'enforcement',\n",
      " 'fee',\n",
      " 'foot',\n",
      " 'from',\n",
      " 'highway',\n",
      " 'horse',\n",
      " 'is_in:state',\n",
      " 'landuse',\n",
      " 'leisure',\n",
      " 'level',\n",
      " 'level:usage',\n",
      " 'lit',\n",
      " 'modifier',\n",
      " 'name',\n",
      " 'name:GO',\n",
      " 'name:GRT',\n",
      " 'name:Greyhound',\n",
      " 'name:de',\n",
      " 'name:en',\n",
      " 'name:es',\n",
      " 'name:fr',\n",
      " 'name:it',\n",
      " 'name:ru',\n",
      " 'name:zh',\n",
      " 'natural',\n",
      " 'network',\n",
      " 'note',\n",
      " 'note_1',\n",
      " 'old_name',\n",
      " 'opening_hours',\n",
      " 'operator',\n",
      " 'osmc:symbol',\n",
      " 'parking',\n",
      " 'public_transport',\n",
      " 'ref',\n",
      " 'restriction',\n",
      " 'route',\n",
      " 'short_turn',\n",
      " 'site',\n",
      " 'source',\n",
      " 'sport',\n",
      " 'state',\n",
      " 'surface',\n",
      " 'symbol',\n",
      " 'to',\n",
      " 'type',\n",
      " 'unsigned_ref',\n",
      " 'via',\n",
      " 'website',\n",
      " 'wheelchair',\n",
      " 'wikipedia']\n"
     ]
    }
   ],
   "source": [
    "#list of relation attribute names (keys)\n",
    "relation_tag_key_list = list(tag_k_v_dict['relation'].keys())\n",
    "\n",
    "# check for problem keys, conflict with relation attribute keys, print all keys\n",
    "print ('Problem Keys:')\n",
    "print (l.check_keys_list(relation_tag_key_list))\n",
    "print ('Set check against relation_attribute_key_list:')\n",
    "print (set(relation_tag_key_list)&set(relation_attribute_key_list))\n",
    "print ('list of all tag keys')\n",
    "pprint (sorted(relation_tag_key_list))"
   ]
  },
  {
   "cell_type": "markdown",
   "metadata": {},
   "source": [
    "    no problem keys\n",
    "    no confict with attribute keys\n",
    "    interesting keys found:\n",
    "    ['FIXME', 'note', 'note_1']\n",
    "    \n",
    "    address: ['addr:city', 'addr:housenumber', 'addr:street']"
   ]
  },
  {
   "cell_type": "code",
   "execution_count": 50,
   "metadata": {
    "collapsed": false,
    "scrolled": false
   },
   "outputs": [
    {
     "name": "stdout",
     "output_type": "stream",
     "text": [
      "This is the contents of FIXME\n",
      "['Confirm classifications such as \"Road\" and \"Township\". (e.g. This may be a '\n",
      " '\"Concession\".) See note and note_1 tags.']\n",
      "\n",
      "This is the contents of note\n",
      "['Be aware that some municipalities may be classifying roads to match '\n",
      " 'another municipality or the previous jurisdiction of the road. (e.g. A '\n",
      " 'city-status municipality may classify its roads with \"Regional\" or '\n",
      " '\"County\".)',\n",
      " 'Davis Centre',\n",
      " 'Unsigned 7000 Series Highway designation',\n",
      " 'Waterloo University, Laurier University, Kitchener, Cambridge SmartCentres '\n",
      " '(westbound request stop drop-off only), Aberfoyle Park & Ride, Milton Park '\n",
      " '& Ride, Square One']\n",
      "\n",
      "This is the contents of note_1\n",
      "['Classifications are mentioned on pg. 114 of Book 8 (Volume 1, May 2010) of '\n",
      " 'the Ontario Traffic Manual.']\n",
      "\n"
     ]
    }
   ],
   "source": [
    "# print contents of interesting keys. (leave address to later section)\n",
    "for key in ['FIXME', 'note', 'note_1']:\n",
    "    print ('This is the contents of ' + key)\n",
    "    pprint (sorted(tag_k_v_dict['relation'][key]))\n",
    "    print ()"
   ]
  },
  {
   "cell_type": "markdown",
   "metadata": {},
   "source": [
    "    note and note_1 should be standardized"
   ]
  },
  {
   "cell_type": "markdown",
   "metadata": {},
   "source": [
    "### Address\n",
    "Check the ends of addresses."
   ]
  },
  {
   "cell_type": "code",
   "execution_count": null,
   "metadata": {
    "collapsed": true
   },
   "outputs": [],
   "source": []
  },
  {
   "cell_type": "markdown",
   "metadata": {},
   "source": [
    "###Potential Problem areas\n",
    "#### address"
   ]
  },
  {
   "cell_type": "markdown",
   "metadata": {},
   "source": [
    "## Make a plan for how to store the data\n",
    "\n"
   ]
  },
  {
   "cell_type": "markdown",
   "metadata": {},
   "source": [
    "###1. Problems Encountered in the Map\n",
    "Student response describes the challenges encountered while auditing, fixing and processing the dataset for the area of their choice. Some of the problems encountered during data audit are cleaned programmatically.\n",
    "\n",
    "\n",
    "Student response shows understanding of the process of auditing, and ways to correct or standardize the data, including dealing with problems specific to the location, e.g. related to language or traditional ways of formatting. Some of the problems encountered during data audit are cleaned programmatically.  "
   ]
  },
  {
   "cell_type": "markdown",
   "metadata": {},
   "source": [
    "###2. Data Overview\n",
    "Student provides a statistical overview about their chosen dataset, like:\n",
    "\n",
    "    size of the file\n",
    "    number of unique users\n",
    "    number of nodes and ways\n",
    "    number of chosen type of nodes, like cafes, shops etc\n",
    "    \n",
    "Student response provides the statistics about their chosen map area.\n",
    "\n",
    "Student response also includes the MongoDB queries used to obtain the statistics."
   ]
  },
  {
   "cell_type": "markdown",
   "metadata": {},
   "source": [
    "###3. Additional Ideas\n",
    "Other ideas about the datasets\n",
    "\n",
    "Student is able to analyze the dataset and recognize opportunities for using it in other projects\n",
    "\n",
    "Student proposes one or more additional ways of improving and analyzing the data and gives thoughtful discussion about the benefits and anticipated problems in implementing the improvement."
   ]
  },
  {
   "cell_type": "markdown",
   "metadata": {},
   "source": [
    "### Code Review:\n",
    "####Code Functionality\n",
    "\n",
    "All Lesson 6 problems are solved correctly. Final project code functionality reflects the description in the project document. All required Lesson 6 questions are correctly solved with the submitted code. Final project code functionality reflects the description in the project document.\n",
    "\n",
    "####Code Readability\n",
    "\n",
    "Final project code is well structured.\n",
    "\n",
    "Final project code is commented as necessary.\n",
    "Final project code follows an intuitive, easy-to-follow logical structure.\n",
    "\n",
    "Final project code that is not intuitively readable is well-documented with comments."
   ]
  },
  {
   "cell_type": "markdown",
   "metadata": {},
   "source": [
    "###Thoroughness and Succinctness of Submission\n",
    "\n",
    "Student submission is long enough to thoroughly answer the questions asked without giving unnecessary detail.\n",
    "A good general guideline is that your question responses should take about 3-6 pages."
   ]
  }
 ],
 "metadata": {
  "kernelspec": {
   "display_name": "Python 3",
   "language": "python",
   "name": "python3"
  },
  "language_info": {
   "codemirror_mode": {
    "name": "ipython",
    "version": 3
   },
   "file_extension": ".py",
   "mimetype": "text/x-python",
   "name": "python",
   "nbconvert_exporter": "python",
   "pygments_lexer": "ipython3",
   "version": "3.4.3"
  }
 },
 "nbformat": 4,
 "nbformat_minor": 0
}
