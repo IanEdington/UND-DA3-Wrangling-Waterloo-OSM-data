{
 "cells": [
  {
   "cell_type": "markdown",
   "metadata": {},
   "source": [
    "# Wrangling Open Street Map of Waterloo, Canada\n",
    "## By @IanEdington\n",
    "\n"
   ]
  },
  {
   "cell_type": "markdown",
   "metadata": {},
   "source": [
    "### Map Area: Region of Waterloo, Canada\n",
    "    https://www.openstreetmap.org/relation/2062154\n",
    "    https://www.openstreetmap.org/relation/2062153\n",
    "\n",
    "### References used during this project\n",
    "    https://www.udacity.com/course/viewer#!/c-ud032-nd/l-760758686/m-817328934\n",
    "    https://docs.python.org/3/library/xml.etree.elementtree.html\n",
    "    https://docs.python.org/2/library/re.html\n",
    "    http://stackoverflow.com/questions/5029934/python-defaultdict-of-defaultdict\n"
   ]
  },
  {
   "cell_type": "code",
   "execution_count": 33,
   "metadata": {
    "collapsed": false
   },
   "outputs": [],
   "source": [
    "import xml.etree.cElementTree as ET\n",
    "from pprint import pprint\n",
    "import re\n",
    "from importlib import reload\n",
    "\n",
    "#-- show plots in notebook\n",
    "%matplotlib inline\n",
    "\n",
    "#-- Import wrangling functions using my lasso\n",
    "import Lasso as l"
   ]
  },
  {
   "cell_type": "code",
   "execution_count": 34,
   "metadata": {
    "collapsed": false
   },
   "outputs": [
    {
     "data": {
      "text/plain": [
       "<module 'Lasso' from '/Users/ian/Dropbox/dev/udacity/project/3-wrangling-maps/Lasso.py'>"
      ]
     },
     "execution_count": 34,
     "metadata": {},
     "output_type": "execute_result"
    }
   ],
   "source": [
    "# Reloading my lasso whenever it gets low\n",
    "reload(l)"
   ]
  },
  {
   "cell_type": "markdown",
   "metadata": {},
   "source": [
    "##Understanding the data\n",
    "Getting an idea of what is going on inside the area chosen.\n",
    "Looking at the possible values for each tag type and each "
   ]
  },
  {
   "cell_type": "code",
   "execution_count": 35,
   "metadata": {
    "collapsed": false
   },
   "outputs": [],
   "source": [
    "atr_d, st_atr_d, s_st_d, tag_k_v_dict = l.summarizes_data_2_tags_deep('waterloo-OSM-data.osm')"
   ]
  },
  {
   "cell_type": "code",
   "execution_count": 36,
   "metadata": {
    "collapsed": false,
    "scrolled": true
   },
   "outputs": [
    {
     "name": "stdout",
     "output_type": "stream",
     "text": [
      "['member', 'meta', 'nd', 'node', 'osm', 'relation', 'tag', 'way']\n"
     ]
    }
   ],
   "source": [
    "# types of top level tags:\n",
    "# Expected [node, way, relation]\n",
    "pprint (sorted(list(atr_d.keys())))"
   ]
  },
  {
   "cell_type": "markdown",
   "metadata": {},
   "source": [
    "###### Why are member, nd & tag as top level tags?\n",
    "It looks like all start tags were analysed not just top level tags. This won't change our analysis. It will actually be useful to see how tag is used as a child of different tags.\n",
    "\n",
    "###### What about &lt;osm&gt;?\n",
    "Only one osm element in set:<br/>\n",
    "&lt;osm version=\"0.6\" generator=\"Overpass API\"&gt;\n",
    "\n",
    "###### What about &lt;note&gt;?\n",
    "Only one note element in set:<br/>\n",
    "&lt;note&gt; The data included in this document is from www.openstreetmap.org. The data is made available under ODbL. &lt;/note&gt;\n",
    "\n",
    "###### What about &lt;meta&gt;?\n",
    "Only one meta element in set:<br/>\n",
    "&lt;meta osm_base=\"2015-07-16T03:14:03Z\"/&gt;"
   ]
  },
  {
   "cell_type": "markdown",
   "metadata": {},
   "source": [
    "## Focus on node, way, relation\n",
    "### nodes\n",
    "#### node attributes\n",
    "Attributes of node: Expected [id, lat, log, ...]\n",
    "Address keys should be here.\n",
    "All keys should be indexable: check for problem keys."
   ]
  },
  {
   "cell_type": "code",
   "execution_count": 37,
   "metadata": {
    "collapsed": false,
    "scrolled": true
   },
   "outputs": [
    {
     "name": "stdout",
     "output_type": "stream",
     "text": [
      "[]\n",
      "['changeset', 'id', 'lat', 'lon', 'timestamp', 'uid', 'user', 'version']\n"
     ]
    }
   ],
   "source": [
    "#list of node attribute names (keys)\n",
    "key_list = sorted(list(atr_d['node'].keys()))\n",
    "\n",
    "# check for problem keys\n",
    "print (l.check_keys_list(key_list))\n",
    "pprint (key_list)"
   ]
  },
  {
   "cell_type": "markdown",
   "metadata": {},
   "source": [
    "No problem chars in node attribute keys\n",
    "\"addr:\" fields seem to be limited (no extra ':')\n",
    "\n",
    "Interesting keys:\n",
    "*    Stangalone: ['FIXME', 'tag', 'place', 'node', 'fixme', 'dbh_cm']\n",
    "*    Address: ['addr:city', 'addr:country', 'addr:housename', 'addr:housenumber', 'addr:interpolation', 'addr:postcode', 'addr:province', 'addr:state', 'addr:street', 'addr:unit',]"
   ]
  },
  {
   "cell_type": "code",
   "execution_count": 38,
   "metadata": {
    "collapsed": false,
    "scrolled": true
   },
   "outputs": [
    {
     "name": "stdout",
     "output_type": "stream",
     "text": [
      "This is the contents of FIXME\n",
      "set()\n",
      "This is the contents of tag\n",
      "set()\n",
      "This is the contents of place\n",
      "set()\n",
      "This is the contents of fixme\n",
      "set()\n",
      "This is the contents of note\n",
      "set()\n",
      "This is the contents of dbh_cm\n",
      "set()\n"
     ]
    }
   ],
   "source": [
    "for attrib in ['FIXME', 'tag', 'place', 'fixme', 'note', 'dbh_cm']:\n",
    "    print ('This is the contents of ' + attrib)\n",
    "    pprint (atr_d['node'][attrib])\n"
   ]
  },
  {
   "cell_type": "markdown",
   "metadata": {},
   "source": [
    "    'FIXME': marks files that warrent a closer look\n",
    "    'tag': Seems to be an empty set. This might be a\n",
    "    'place': just another location descriptor\n",
    "    'node': ref to the sub elements\n",
    "    'fixme': marks files that warrent a closer look\n",
    "    'note': lots of notes, one fixme starting with 'FIXME:'\n",
    "    'dbh_cm': seems to be in reference to a tree"
   ]
  },
  {
   "cell_type": "markdown",
   "metadata": {},
   "source": [
    "#### Node Tag k:v pairs\n",
    "\n",
    "k:v pairs of Tags on node\n",
    "Expected ?\n",
    "All keys should be indexable: check for problem keys.\n",
    "\n",
    "Keys from tags shouldn't conflict with attribute keys from same node. How can we check this?"
   ]
  },
  {
   "cell_type": "code",
   "execution_count": 39,
   "metadata": {
    "collapsed": false,
    "scrolled": true
   },
   "outputs": [
    {
     "name": "stdout",
     "output_type": "stream",
     "text": [
      "[]\n",
      "['FIXME',\n",
      " 'access',\n",
      " 'addr:city',\n",
      " 'addr:country',\n",
      " 'addr:housename',\n",
      " 'addr:housenumber',\n",
      " 'addr:interpolation',\n",
      " 'addr:postcode',\n",
      " 'addr:province',\n",
      " 'addr:state',\n",
      " 'addr:street',\n",
      " 'addr:unit',\n",
      " 'administrative',\n",
      " 'aerialway',\n",
      " 'aeroway',\n",
      " 'alcohol',\n",
      " 'alt_name',\n",
      " 'amenity',\n",
      " 'artist',\n",
      " 'artist_name',\n",
      " 'artwork_type',\n",
      " 'atm',\n",
      " 'automated',\n",
      " 'backrest',\n",
      " 'barrier',\n",
      " 'beauty',\n",
      " 'bench',\n",
      " 'bicycle',\n",
      " 'bicycle_parking',\n",
      " 'bin',\n",
      " 'board_type',\n",
      " 'books',\n",
      " 'booth',\n",
      " 'bottle',\n",
      " 'brand',\n",
      " 'building',\n",
      " 'building:levels',\n",
      " 'built',\n",
      " 'bus',\n",
      " 'button',\n",
      " 'button_operated',\n",
      " 'canvec:UUID',\n",
      " 'capacity',\n",
      " 'car',\n",
      " 'clothes',\n",
      " 'colour',\n",
      " 'contact:phone',\n",
      " 'contact:website',\n",
      " 'content',\n",
      " 'contents',\n",
      " 'covered',\n",
      " 'craft',\n",
      " 'created_by',\n",
      " 'crossing',\n",
      " 'crossing:barrier',\n",
      " 'crossing:bell',\n",
      " 'crossing:light',\n",
      " 'cuisine',\n",
      " 'currency:CAD',\n",
      " 'cycleway',\n",
      " 'dbh_cm',\n",
      " 'denomination',\n",
      " 'description',\n",
      " 'designation',\n",
      " 'destination',\n",
      " 'diet:vegetarian',\n",
      " 'direction',\n",
      " 'dispensing',\n",
      " 'display',\n",
      " 'drink',\n",
      " 'drinking_water',\n",
      " 'drive_through',\n",
      " 'email',\n",
      " 'emergency',\n",
      " 'entrance',\n",
      " 'fax',\n",
      " 'fee',\n",
      " 'female',\n",
      " 'fire_hydrant:class',\n",
      " 'fire_hydrant:diameter',\n",
      " 'fire_hydrant:type',\n",
      " 'fixme',\n",
      " 'flashing_light',\n",
      " 'floor',\n",
      " 'foot',\n",
      " 'formerly',\n",
      " 'fuel:diesel',\n",
      " 'fuel:e85',\n",
      " 'fuel:gasoline',\n",
      " 'fuel:lpg',\n",
      " 'fuel:octane_91',\n",
      " 'fuel:octane_95',\n",
      " 'fuel:propane',\n",
      " 'gender',\n",
      " 'healthcare',\n",
      " 'highway',\n",
      " 'historic',\n",
      " 'horse',\n",
      " 'indoor',\n",
      " 'information',\n",
      " 'internet_access',\n",
      " 'internet_access:fee',\n",
      " 'is_in:continent',\n",
      " 'junction',\n",
      " 'landuse',\n",
      " 'language',\n",
      " 'layer',\n",
      " 'leaf_type',\n",
      " 'leisure',\n",
      " 'level',\n",
      " 'loc_name',\n",
      " 'local_ref',\n",
      " 'location',\n",
      " 'male',\n",
      " 'man_made',\n",
      " 'material',\n",
      " 'maxspeed',\n",
      " 'monitoring:weather',\n",
      " 'motorcar',\n",
      " 'motorcycle',\n",
      " 'name',\n",
      " 'name:ar',\n",
      " 'name:de',\n",
      " 'name:en',\n",
      " 'name:fr',\n",
      " 'name:nl',\n",
      " 'name:ru',\n",
      " 'name:uk',\n",
      " 'name:zh',\n",
      " 'natural',\n",
      " 'network',\n",
      " 'noexit',\n",
      " 'note',\n",
      " 'office',\n",
      " 'old_name',\n",
      " 'opening_hours',\n",
      " 'opening_hours:url',\n",
      " 'operator',\n",
      " 'operator:fr',\n",
      " 'operator:zh',\n",
      " 'outdoor_seating',\n",
      " 'parking',\n",
      " 'payment:amex',\n",
      " 'payment:bitcoin',\n",
      " 'payment:cash',\n",
      " 'payment:coins',\n",
      " 'payment:credit_cards',\n",
      " 'payment:debit_cards',\n",
      " 'payment:electronic_purses',\n",
      " 'payment:litecoin',\n",
      " 'payment:mastercard',\n",
      " 'payment:notes',\n",
      " 'payment:telephone_cards',\n",
      " 'payment:visa',\n",
      " 'phone',\n",
      " 'place',\n",
      " 'population',\n",
      " 'power',\n",
      " 'produce',\n",
      " 'public_transport',\n",
      " 'railway',\n",
      " 'recording:automated',\n",
      " 'recycling:batteries',\n",
      " 'recycling:bicycles',\n",
      " 'recycling:computers',\n",
      " 'recycling_type',\n",
      " 'ref',\n",
      " 'ref:store_number',\n",
      " 'religion',\n",
      " 'room',\n",
      " 'route',\n",
      " 'route_ref',\n",
      " 'self_service',\n",
      " 'service',\n",
      " 'service:bicycle:chain_tool',\n",
      " 'service:bicycle:diy',\n",
      " 'service:bicycle:repair',\n",
      " 'service:bicycle:retail',\n",
      " 'service:bicycle:second_hand',\n",
      " 'shelter',\n",
      " 'shelter_type',\n",
      " 'shop',\n",
      " 'short_name',\n",
      " 'sign_post',\n",
      " 'smoking',\n",
      " 'social_facility',\n",
      " 'social_facility:for',\n",
      " 'source',\n",
      " 'source:ref',\n",
      " 'species',\n",
      " 'species:en',\n",
      " 'sport',\n",
      " 'start_date',\n",
      " 'stop',\n",
      " 'stop_id',\n",
      " 'stopsign',\n",
      " 'store_name',\n",
      " 'street_lamp',\n",
      " 'supervised',\n",
      " 'support',\n",
      " 'surveillance',\n",
      " 'swing_gate:type',\n",
      " 'tactile_paving',\n",
      " 'toilets:disposal',\n",
      " 'toilets:handwashing',\n",
      " 'toilets:position',\n",
      " 'tourism',\n",
      " 'towards',\n",
      " 'tower:type',\n",
      " 'traffic_calming',\n",
      " 'traffic_sign',\n",
      " 'traffic_signals:direction',\n",
      " 'transformer',\n",
      " 'turning_circle',\n",
      " 'twitter',\n",
      " 'type',\n",
      " 'url',\n",
      " 'vending',\n",
      " 'visibility',\n",
      " 'waterway',\n",
      " 'website',\n",
      " 'wheelchair',\n",
      " 'wifi',\n",
      " 'wikipedia']\n"
     ]
    }
   ],
   "source": [
    "#list of node attribute names (keys)\n",
    "tag_key_list = list(tag_k_v_dict['node'].keys())\n",
    "\n",
    "# check for problem keys\n",
    "print (l.check_keys_list(tag_key_list))\n",
    "pprint (sorted(tag_key_list))"
   ]
  },
  {
   "cell_type": "markdown",
   "metadata": {},
   "source": [
    "No problem chars in node tag keys \n",
    "\n",
    "Interesting keys:\n",
    "\n",
    "    Stangalone: ['FIXME', 'tag', 'place', 'node', 'fixme', 'dbh_cm']\n",
    "    Address: ['addr:city', 'addr:country', 'addr:housename', 'addr:housenumber', 'addr:interpolation', 'addr:postcode', 'addr:province', 'addr:state', 'addr:street', 'addr:unit',]\n",
    "\n"
   ]
  },
  {
   "cell_type": "markdown",
   "metadata": {},
   "source": [
    "#### node children"
   ]
  },
  {
   "cell_type": "code",
   "execution_count": null,
   "metadata": {
    "collapsed": true
   },
   "outputs": [],
   "source": []
  },
  {
   "cell_type": "markdown",
   "metadata": {},
   "source": [
    "#### node children attributes"
   ]
  },
  {
   "cell_type": "markdown",
   "metadata": {},
   "source": [
    "#### node children children"
   ]
  },
  {
   "cell_type": "markdown",
   "metadata": {},
   "source": [
    "### Ways"
   ]
  },
  {
   "cell_type": "markdown",
   "metadata": {},
   "source": [
    "### relation"
   ]
  },
  {
   "cell_type": "markdown",
   "metadata": {},
   "source": [
    "###Potential Problem areas\n",
    "#### address"
   ]
  },
  {
   "cell_type": "markdown",
   "metadata": {},
   "source": [
    "## Make a plan for how to store the data\n",
    "\n"
   ]
  },
  {
   "cell_type": "markdown",
   "metadata": {},
   "source": [
    "###1. Problems Encountered in the Map\n",
    "Student response describes the challenges encountered while auditing, fixing and processing the dataset for the area of their choice. Some of the problems encountered during data audit are cleaned programmatically.\n",
    "\n",
    "\n",
    "Student response shows understanding of the process of auditing, and ways to correct or standardize the data, including dealing with problems specific to the location, e.g. related to language or traditional ways of formatting. Some of the problems encountered during data audit are cleaned programmatically.  "
   ]
  },
  {
   "cell_type": "markdown",
   "metadata": {},
   "source": [
    "###2. Data Overview\n",
    "Student provides a statistical overview about their chosen dataset, like:\n",
    "\n",
    "    size of the file\n",
    "    number of unique users\n",
    "    number of nodes and ways\n",
    "    number of chosen type of nodes, like cafes, shops etc\n",
    "    \n",
    "Student response provides the statistics about their chosen map area.\n",
    "\n",
    "Student response also includes the MongoDB queries used to obtain the statistics."
   ]
  },
  {
   "cell_type": "markdown",
   "metadata": {},
   "source": [
    "###3. Additional Ideas\n",
    "Other ideas about the datasets\n",
    "\n",
    "Student is able to analyze the dataset and recognize opportunities for using it in other projects\n",
    "\n",
    "Student proposes one or more additional ways of improving and analyzing the data and gives thoughtful discussion about the benefits and anticipated problems in implementing the improvement."
   ]
  },
  {
   "cell_type": "markdown",
   "metadata": {},
   "source": [
    "### Code Review:\n",
    "####Code Functionality\n",
    "\n",
    "All Lesson 6 problems are solved correctly. Final project code functionality reflects the description in the project document. All required Lesson 6 questions are correctly solved with the submitted code. Final project code functionality reflects the description in the project document.\n",
    "\n",
    "####Code Readability\n",
    "\n",
    "Final project code is well structured.\n",
    "\n",
    "Final project code is commented as necessary.\n",
    "Final project code follows an intuitive, easy-to-follow logical structure.\n",
    "\n",
    "Final project code that is not intuitively readable is well-documented with comments."
   ]
  },
  {
   "cell_type": "markdown",
   "metadata": {},
   "source": [
    "###Thoroughness and Succinctness of Submission\n",
    "\n",
    "Student submission is long enough to thoroughly answer the questions asked without giving unnecessary detail.\n",
    "A good general guideline is that your question responses should take about 3-6 pages."
   ]
  }
 ],
 "metadata": {
  "kernelspec": {
   "display_name": "Python 3",
   "language": "python",
   "name": "python3"
  },
  "language_info": {
   "codemirror_mode": {
    "name": "ipython",
    "version": 3
   },
   "file_extension": ".py",
   "mimetype": "text/x-python",
   "name": "python",
   "nbconvert_exporter": "python",
   "pygments_lexer": "ipython3",
   "version": "3.4.3"
  }
 },
 "nbformat": 4,
 "nbformat_minor": 0
}
