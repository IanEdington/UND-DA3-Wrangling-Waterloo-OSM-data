{
 "cells": [
  {
   "cell_type": "markdown",
   "metadata": {},
   "source": [
    "# Wrangling Waterloo OSM data\n",
    "## Waterloo, ON, Canada By @IanEdington\n",
    "\n",
    "Full report at: https://github.com/IanEdington/wrangling-waterloo-maps-data"
   ]
  },
  {
   "cell_type": "markdown",
   "metadata": {},
   "source": [
    "#### Map Area: Region of Waterloo, ON, Canada\n",
    "   * [https://www.openstreetmap.org/relation/2062154](https://www.openstreetmap.org/relation/2062154)\n",
    "   * [https://www.openstreetmap.org/relation/2062153](https://www.openstreetmap.org/relation/2062153)\n",
    "\n",
    "#### References used during this project\n",
    "   * [http://docs.mongodb.org/manual/reference/](http://docs.mongodb.org/manual/reference/)\n",
    "   * [https://docs.python.org/2/library/re.html](https://docs.python.org/2/library/re.html)\n",
    "   * [https://docs.python.org/3/library/xml.etree.elementtree.html](https://docs.python.org/3/library/xml.etree.elementtree.html)\n",
    "   * [http://stackoverflow.com/questions/5029934/](http://stackoverflow.com/questions/5029934/)\n",
    "   * [http://stackoverflow.com/questions/16614648/](http://stackoverflow.com/questions/16614648/)"
   ]
  },
  {
   "cell_type": "markdown",
   "metadata": {},
   "source": [
    "## 1. Problems Encountered in the Map\n",
    "Over four iteration a lot of challenges were identified in the data cleaning & transforming process. An overview of the problems identified are in the document bellow for the step by step process that I went throught to understand, structure and clean the data please see the [Wrangling Waterloo OSM journal](https://github.com/IanEdington/wrangling-waterloo-maps-data/blob/master/Wrangling%20Waterloo%20OSM.ipynb)."
   ]
  },
  {
   "cell_type": "markdown",
   "metadata": {},
   "source": [
    "###Problem areas identified:\n",
    "\n",
    "#### element attributes\n",
    "\n",
    "* The following attributes should be integers instead of strings:\n",
    "\n",
    "        uid\n",
    "        version      \n",
    "        changeset    \n",
    "        id           \n",
    "        nd ref       \n",
    "        relation ref \n",
    "\n",
    "#### nd tags:\n",
    "* 'nd' tags are always ints and the order they appears is important. The best way to store this data in JSON is as an array of ints."
   ]
  },
  {
   "cell_type": "markdown",
   "metadata": {},
   "source": [
    "#### member tags:\n",
    "* Member tags contain complex information and their order matters. The best way to store this data in JSON is as an array of objects. \n",
    "\n",
    "        'member': [{'type': sub_tag.attribute.get('type'),\n",
    "                    'ref':  sub_tag.attribute.get('ref'),\n",
    "                    'role': sub_tag.attribute.get('role')},\n",
    "                    {...},\n",
    "                    {...}]\n",
    "\n",
    "* Sometimes the 'role' attribute of member tags is undefined. This can be removed to simplify the JSON document.\n",
    "\n",
    "        role of \"\" -> None\n",
    "\n",
    "#### tag values:\n",
    "* Tag values can overlap with attributes so should be kept in their own objects\n",
    "\n",
    "* 'FIXME' and 'fixme' tags both exist. They should be standardized\n",
    "\n",
    "* 'note' and 'note_1' tags both exist. They should be standardized"
   ]
  },
  {
   "cell_type": "markdown",
   "metadata": {},
   "source": [
    "#### tag values (address):\n",
    "##### addr:street\n",
    "* tdcanadatrust.com shouldn't be an address. It should be changed to a URL.\n",
    "\n",
    "* These are street directions that should be standardized:\n",
    "            South, S, s -> South\n",
    "            East,  E, e -> East\n",
    "            West,  W, w -> West\n",
    "            North, N, n -> North\n",
    "\n",
    "* These are street types that should be standardized even if infront of a street direction:\n",
    "\n",
    "            AVenue Ave    -> Avenue\n",
    "            Cresent       -> Crescent\n",
    "            Dr Dr.        -> Drive\n",
    "            Rd            -> Road\n",
    "            St St. Steet  -> Street\n",
    "\n",
    "##### addr:state should be empty\n",
    "        if province is populated:\n",
    "            disregard state\n",
    "        else:\n",
    "            assign state to province\n",
    "\n",
    "##### addr:province should be all 'ON'\n",
    "    \n",
    "##### addr:interpolation Yes is not a valid value\n",
    "* If Yes exists as a value for addr:interpolation a 'FIXME' tag should be added saying 'Yes is not a valid entry for addr:interpolation'\n",
    "    \n",
    "##### addr:city\n",
    "* These are city names that should be standardized:\n",
    "        'City of Cambridge' -> 'Cambridge'\n",
    "        'City of Kitchener' -> 'Kitchener'\n",
    "        'kitchener'         -> 'Kitchener'\n",
    "        'City of Waterloo'  -> 'Waterloo'\n",
    "        'waterloo'          -> 'Waterloo'\n",
    "        'St. Agatha'        -> 'Saint Agatha'"
   ]
  },
  {
   "cell_type": "markdown",
   "metadata": {},
   "source": [
    "#### Programatically edited:\n",
    "Most of these problems were handled programatically with the process_map function of Lasso.py. A few acceptions are listed in the following section.\n",
    "\n",
    "#### Manually edited:\n",
    "A programatic fix wasn't appropriate for a few problems, most likely due to human error. The following errors were changed in the OSM XML document.\n",
    "\n",
    "* the addr:interpolation of Yes\n",
    "* the addr:street of tdcanadatrust.com was changed to a url\n",
    "* a 'note' starting with 'FIXME:' was changed to a 'FIXME'\n",
    "* a few elements with 'note' and 'note_1' were combined into 'note'\n",
    "    "
   ]
  },
  {
   "cell_type": "markdown",
   "metadata": {},
   "source": [
    "### Final Data Structure\n",
    "The final data structure was designed to hold all the data in an easily accessible and organized way.\n",
    "\n",
    "    {'type':    xml_tree.tag,\n",
    "\n",
    "     'id':      int(xml_tree('id')),\n",
    "\n",
    "     'pos':     [float(xml_tree('lat')),\n",
    "                 float(xml_tree('lon'))],\n",
    "\n",
    "     'created': {'version':     int(xml_tree('uid')),\n",
    "                 'changeset':   int(xml_tree('changeset')),\n",
    "                 'timestamp':   xml_tree('timestamp'),\n",
    "                 'user':        xml_tree('user'),\n",
    "                 'uid':         int(xml_tree('uid'))},\n",
    "\n",
    "     'address': {'housenumber': tag_tag['addr:housenumber'],\n",
    "                 'postcode': tag_tag['addr:postcode'],\n",
    "                 'street': tag_tag['addr:street'],\n",
    "                 ...},\n",
    "\n",
    "     'member':  [{'type': member_tag('type'),\n",
    "                  'ref':  int(member_tag('ref')),\n",
    "                  'role': member_tag('role')},\n",
    "                 {..........................}],\n",
    "\n",
    "     'node_refs':[int(nd_tag['ref']),\n",
    "                  int(nd_tag['ref']), ... ],\n",
    "\n",
    "     'tag': {tag['k']:  tag_tag['v'],\n",
    "             tag['k']:  tag_tag['v'],\n",
    "             ... }\n",
    "     }"
   ]
  },
  {
   "cell_type": "markdown",
   "metadata": {},
   "source": [
    "#### Process full dataset with manual fixes:"
   ]
  },
  {
   "cell_type": "code",
   "execution_count": 1,
   "metadata": {
    "collapsed": false
   },
   "outputs": [],
   "source": [
    "from collections import defaultdict\n",
    "\n",
    "#-- Import wrangling functions using my lasso\n",
    "import Lasso as l"
   ]
  },
  {
   "cell_type": "code",
   "execution_count": 2,
   "metadata": {
    "collapsed": false
   },
   "outputs": [],
   "source": [
    "osmfile = 'waterloo-OSM-data.osm'\n",
    "json_sample = l.process_map(osmfile)"
   ]
  },
  {
   "cell_type": "markdown",
   "metadata": {},
   "source": [
    "#### Import into Mongo DB using mongoimport\n",
    "\n",
    "    from xml_tree:\n",
    "    node:     248,288\n",
    "    way:       31,662\n",
    "    relation:     234\n",
    "    total:    280,184\n",
    "\n",
    "    $ mongoimport -d osm -c elements --file waterloo-OSM-data.osm.json\n",
    "    >>> imported 280184 documents"
   ]
  },
  {
   "cell_type": "markdown",
   "metadata": {},
   "source": [
    "##2. Data Overview\n",
    "Student provides a statistical overview about their chosen dataset, like:"
   ]
  },
  {
   "cell_type": "code",
   "execution_count": 3,
   "metadata": {
    "collapsed": false
   },
   "outputs": [],
   "source": [
    "from pymongo import MongoClient\n",
    "client = MongoClient('localhost:27017')\n",
    "osm = client.osm"
   ]
  },
  {
   "cell_type": "markdown",
   "metadata": {},
   "source": [
    "####size of the file: \n",
    "\n",
    "    original OSM xml: 55,692,326 bytes\n",
    "    JSON:             59,418,687 bytes\n",
    "    MongoDB:         201,326,592 bytes"
   ]
  },
  {
   "cell_type": "code",
   "execution_count": 4,
   "metadata": {
    "collapsed": false
   },
   "outputs": [
    {
     "data": {
      "text/plain": [
       "{'avgObjSize': 276.87786771738973,\n",
       " 'collections': 3,\n",
       " 'dataFileVersion': {'major': 4, 'minor': 22},\n",
       " 'dataSize': 77577856.0,\n",
       " 'db': 'osm',\n",
       " 'extentFreeList': {'num': 0, 'totalSize': 0},\n",
       " 'fileSize': 201326592.0,\n",
       " 'indexSize': 9108064.0,\n",
       " 'indexes': 1,\n",
       " 'nsSizeMB': 16,\n",
       " 'numExtents': 12,\n",
       " 'objects': 280188,\n",
       " 'ok': 1.0,\n",
       " 'storageSize': 86323200.0}"
      ]
     },
     "execution_count": 4,
     "metadata": {},
     "output_type": "execute_result"
    }
   ],
   "source": [
    "osm.command(\"dbstats\")"
   ]
  },
  {
   "cell_type": "markdown",
   "metadata": {},
   "source": [
    "####number of unique users & top 5 contributors:"
   ]
  },
  {
   "cell_type": "code",
   "execution_count": 5,
   "metadata": {
    "collapsed": false
   },
   "outputs": [
    {
     "name": "stdout",
     "output_type": "stream",
     "text": [
      "There were 321 unique users who contributed to the Waterloo Map.\n",
      "\n",
      "permute added 127990 elements\n",
      "fuego added 30268 elements\n",
      "andrewpmk added 28966 elements\n",
      "rw__ added 20155 elements\n",
      "Xylem added 12611 elements\n"
     ]
    }
   ],
   "source": [
    "pipeline = [{'$group': {'_id': '$created.uid',\n",
    "                        'user': {'$first': '$created.user'},\n",
    "                        'count': {'$sum':1}}},\n",
    "            {'$sort': {'count': -1}}]\n",
    "\n",
    "users = osm.elements.aggregate(pipeline)['result']\n",
    "\n",
    "print('There were ' + str(len(users)) + ' unique users who contributed to the Waterloo Map.\\n')\n",
    "\n",
    "for ur in users[:5]:\n",
    "    print (ur['user'] + ' added ' + str(ur['count']) + ' elements')"
   ]
  },
  {
   "cell_type": "markdown",
   "metadata": {},
   "source": [
    "####number of nodes, ways, and relations:"
   ]
  },
  {
   "cell_type": "code",
   "execution_count": 6,
   "metadata": {
    "collapsed": false
   },
   "outputs": [
    {
     "name": "stdout",
     "output_type": "stream",
     "text": [
      "There are 248288 node elements\n",
      "There are 31662 way elements\n",
      "There are 234 relation elements\n"
     ]
    }
   ],
   "source": [
    "pipeline = [{'$group': {'_id': '$type',\n",
    "                        'count': {'$sum':1}}},\n",
    "            {'$sort': {'count': -1}}]\n",
    "\n",
    "elementTypes = {}\n",
    "\n",
    "for ty in osm.elements.aggregate(pipeline)['result']:\n",
    "    elementTypes[ty['_id']] = ty['count']\n",
    "    print ('There are ' + str(ty['count']) +' '+ ty['_id'] +' elements')"
   ]
  },
  {
   "cell_type": "markdown",
   "metadata": {},
   "source": [
    "###3. Additional Ideas\n",
    "\n",
    "The Region of Waterloo has a large amount of open data part of which is map data related to bike routs. Although some of the routs are in OSM not all are. The data from Waterloo is updated annually and there should be a way to automate an annual import, matching already imported data.\n",
    "\n",
    "With the increase of cyclists there might be an opportunity for a bike friendly GPS app. Since a lot of cyclists feel a sense of comradery with other cyclists, building a comunity around what roads are good for different bikers might be a good way to insight high quality data. As we can see below there is very little in terms of bicycle data on OSM for Waterloo."
   ]
  },
  {
   "cell_type": "markdown",
   "metadata": {},
   "source": [
    "#### Bikeable ways verses non bikeable ways"
   ]
  },
  {
   "cell_type": "code",
   "execution_count": 7,
   "metadata": {
    "collapsed": false,
    "scrolled": true
   },
   "outputs": [
    {
     "name": "stdout",
     "output_type": "stream",
     "text": [
      "There are 1617 yes ways in KW.\n",
      "There are 295 designated ways in KW.\n",
      "There are 138 no ways in KW.\n",
      "There are 3 permissive ways in KW.\n",
      "There are 2 dismount ways in KW.\n",
      "Out of 31662 ways 1912 are bike friendly, marked as yes or designated.\n"
     ]
    }
   ],
   "source": [
    "pipeline = [{'$match': {'tag.bicycle': {'$exists':1},\n",
    "                        'type': 'way'}},\n",
    "            {'$group': {'_id': '$tag.bicycle',\n",
    "                        'count': {'$sum':1}}},\n",
    "            {'$sort': {'count': -1}}]\n",
    "\n",
    "bikeWays = {}\n",
    "\n",
    "for bkW in osm.elements.aggregate(pipeline)['result']:\n",
    "    bikeWays[bkW['_id']] = bkW['count']\n",
    "    print ('There are '+ str(bkW['count']) +' '+ bkW['_id'] +' ways in KW.')\n",
    "\n",
    "print ('Out of ' + str(elementTypes['way']) + ' ways ' + str(bikeWays['yes'] + bikeWays['designated']) +' are bike friendly, marked as yes or designated.')"
   ]
  },
  {
   "cell_type": "markdown",
   "metadata": {},
   "source": [
    "####Amenities containing the word bicycle"
   ]
  },
  {
   "cell_type": "code",
   "execution_count": 8,
   "metadata": {
    "collapsed": false,
    "scrolled": true
   },
   "outputs": [
    {
     "name": "stdout",
     "output_type": "stream",
     "text": [
      "bicycle_parking  count: 83\n",
      "bicycle_repair_station  count: 6\n"
     ]
    }
   ],
   "source": [
    "pipeline = [{'$match': {'type': 'node',\n",
    "                        'tag.amenity': {'$regex': r'bicycle',\n",
    "                                        '$options': 'i'}}},\n",
    "            {'$group': {'_id': '$tag.amenity',\n",
    "                        'count': {'$sum':1}}},\n",
    "            {'$sort': {'count': -1}}]\n",
    "\n",
    "bikeSpots = {}\n",
    "\n",
    "for bk in osm.elements.aggregate(pipeline)['result']:\n",
    "    bikeSpots[bk['_id']] = bk['count']\n",
    "    print (bk['_id']+'  count: ' + str(bk['count']))"
   ]
  }
 ],
 "metadata": {
  "kernelspec": {
   "display_name": "Python 3",
   "language": "python",
   "name": "python3"
  },
  "language_info": {
   "codemirror_mode": {
    "name": "ipython",
    "version": 3
   },
   "file_extension": ".py",
   "mimetype": "text/x-python",
   "name": "python",
   "nbconvert_exporter": "python",
   "pygments_lexer": "ipython3",
   "version": "3.4.3"
  }
 },
 "nbformat": 4,
 "nbformat_minor": 0
}
