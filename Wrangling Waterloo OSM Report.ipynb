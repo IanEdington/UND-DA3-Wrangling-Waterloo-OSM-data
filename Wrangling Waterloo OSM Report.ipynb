{
 "cells": [
  {
   "cell_type": "markdown",
   "metadata": {},
   "source": [
    "###1. Problems Encountered in the Map\n",
    "Student response describes the challenges encountered while auditing, fixing and processing the dataset for the area of their choice. Some of the problems encountered during data audit are cleaned programmatically.\n",
    "\n",
    "\n",
    "Student response shows understanding of the process of auditing, and ways to correct or standardize the data, including dealing with problems specific to the location, e.g. related to language or traditional ways of formatting. Some of the problems encountered during data audit are cleaned programmatically."
   ]
  },
  {
   "cell_type": "markdown",
   "metadata": {},
   "source": [
    "###2. Data Overview\n",
    "Student provides a statistical overview about their chosen dataset, like:\n",
    "\n",
    "    size of the file\n",
    "    number of unique users\n",
    "    number of nodes and ways\n",
    "    number of chosen type of nodes, like cafes, shops etc\n",
    "    \n",
    "Student response provides the statistics about their chosen map area.\n",
    "\n",
    "Student response also includes the MongoDB queries used to obtain the statistics."
   ]
  },
  {
   "cell_type": "markdown",
   "metadata": {},
   "source": [
    "###3. Additional Ideas\n",
    "Other ideas about the datasets\n",
    "\n",
    "Student is able to analyze the dataset and recognize opportunities for using it in other projects\n",
    "\n",
    "Student proposes one or more additional ways of improving and analyzing the data and gives thoughtful discussion about the benefits and anticipated problems in implementing the improvement."
   ]
  },
  {
   "cell_type": "markdown",
   "metadata": {},
   "source": [
    "### Code Review:\n",
    "####Code Functionality\n",
    "\n",
    "All Lesson 6 problems are solved correctly. Final project code functionality reflects the description in the project document. All required Lesson 6 questions are correctly solved with the submitted code. Final project code functionality reflects the description in the project document.\n",
    "\n",
    "####Code Readability\n",
    "\n",
    "Final project code is well structured.\n",
    "\n",
    "Final project code is commented as necessary.\n",
    "Final project code follows an intuitive, easy-to-follow logical structure.\n",
    "\n",
    "Final project code that is not intuitively readable is well-documented with comments."
   ]
  },
  {
   "cell_type": "markdown",
   "metadata": {},
   "source": [
    "###Thoroughness and Succinctness of Submission\n",
    "\n",
    "Student submission is long enough to thoroughly answer the questions asked without giving unnecessary detail.\n",
    "A good general guideline is that your question responses should take about 3-6 pages."
   ]
  }
 ],
 "metadata": {
  "kernelspec": {
   "display_name": "Python 3",
   "language": "python",
   "name": "python3"
  },
  "language_info": {
   "codemirror_mode": {
    "name": "ipython",
    "version": 3
   },
   "file_extension": ".py",
   "mimetype": "text/x-python",
   "name": "python",
   "nbconvert_exporter": "python",
   "pygments_lexer": "ipython3",
   "version": "3.4.3"
  }
 },
 "nbformat": 4,
 "nbformat_minor": 0
}
